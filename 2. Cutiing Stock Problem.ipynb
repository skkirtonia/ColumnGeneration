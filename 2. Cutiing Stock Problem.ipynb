{
 "cells": [
  {
   "cell_type": "code",
   "execution_count": 35,
   "id": "initial_id",
   "metadata": {
    "collapsed": true,
    "ExecuteTime": {
     "end_time": "2024-03-03T04:10:59.313266Z",
     "start_time": "2024-03-03T04:10:59.284396Z"
    }
   },
   "outputs": [],
   "source": [
    "# Import Solver\n",
    "from solvers.SolverCuttingStock import SolverCuttingStock\n",
    "# import necessary packages\n",
    "import pandas as pd"
   ]
  },
  {
   "cell_type": "code",
   "outputs": [],
   "source": [
    "# read input from text file\n",
    "def read_data_from_txt(file_path):\n",
    "    roll_length = None\n",
    "    orders = {}\n",
    "    with open(file_path, \"r\") as input_file:\n",
    "        roll_length = int(input_file.readline())\n",
    "        count_lengths = int(input_file.readline())\n",
    "        for i in range(count_lengths):\n",
    "            each_length, count_order = input_file.readline().strip().split()\n",
    "            orders[int(each_length)] = int(count_order)\n",
    "    return int(roll_length), orders"
   ],
   "metadata": {
    "collapsed": false,
    "ExecuteTime": {
     "end_time": "2024-03-03T04:11:51.885016300Z",
     "start_time": "2024-03-03T04:11:51.866419200Z"
    }
   },
   "id": "cd3c2fd3691afe61",
   "execution_count": 44
  },
  {
   "cell_type": "code",
   "outputs": [],
   "source": [
    "folder_path= \"data/simulated/\"\n",
    "file_name = \"data_simulated_2\"\n",
    "roll_length, orders = read_data_from_txt(folder_path+file_name+\".txt\")"
   ],
   "metadata": {
    "collapsed": false,
    "ExecuteTime": {
     "end_time": "2024-03-03T04:12:09.996775100Z",
     "start_time": "2024-03-03T04:12:09.970008900Z"
    }
   },
   "id": "7b475c14c8a9b297",
   "execution_count": 51
  },
  {
   "cell_type": "code",
   "outputs": [],
   "source": [
    "solver = SolverCuttingStock(roll_length=roll_length, orders=orders)\n",
    "solution = solver.solve()"
   ],
   "metadata": {
    "collapsed": false,
    "ExecuteTime": {
     "end_time": "2024-03-03T04:12:10.652437900Z",
     "start_time": "2024-03-03T04:12:10.399291700Z"
    }
   },
   "id": "df39db1b1e4aaeee",
   "execution_count": 52
  },
  {
   "cell_type": "code",
   "outputs": [],
   "source": [
    "output_data = []\n",
    "for config, roll_count in solution:\n",
    "    config_text = ' '.join([f'({cut_length}, {count})' for cut_length, count in config.items()])\n",
    "    waste = roll_length-sum([cut_length*count for cut_length, count in config.items()])\n",
    "    output_data.append({\n",
    "        \"# of rolls\": roll_count,\n",
    "        \"Configuration\": config_text,\n",
    "        \"Waste per roll\": waste\n",
    "    })\n",
    "df_cutting_configuration = pd.DataFrame(output_data)"
   ],
   "metadata": {
    "collapsed": false,
    "ExecuteTime": {
     "end_time": "2024-03-03T04:12:10.846541100Z",
     "start_time": "2024-03-03T04:12:10.830695100Z"
    }
   },
   "id": "a2eb0cabf26e7e1",
   "execution_count": 53
  },
  {
   "cell_type": "code",
   "outputs": [
    {
     "data": {
      "text/plain": "    # of rolls                   Configuration  Waste per roll\n0           16                         (20, 5)               0\n1          211                 (41, 1) (59, 1)               0\n2          144          (6, 2) (26, 1) (62, 1)               0\n3           48         (13, 1) (26, 1) (61, 1)               0\n4           48         (12, 1) (13, 2) (62, 1)               0\n5          183          (9, 1) (27, 1) (64, 1)               0\n6            8  (9, 1) (12, 1) (15, 1) (64, 1)               0\n7           72                 (12, 1) (44, 2)               0\n8           72         (12, 1) (26, 1) (62, 1)               0\n9          137                 (28, 2) (44, 1)               0\n10         155                 (14, 1) (43, 2)               0\n11         194          (3, 1) (45, 1) (52, 1)               0\n12         141                 (46, 1) (54, 1)               0\n13          77         (13, 1) (41, 1) (46, 1)               0\n14          75                 (24, 2) (52, 1)               0\n15          54         (15, 1) (24, 1) (61, 1)               0\n16           3                  (2, 5) (15, 6)               0\n17           1                 (15, 4) (20, 2)               0\n18          80          (6, 1) (15, 2) (64, 1)               0\n19          18         (14, 1) (34, 1) (52, 1)               0\n20         121          (2, 1) (34, 1) (64, 1)               0\n21          81          (9, 1) (45, 1) (46, 1)               0\n22          69         (14, 1) (41, 1) (45, 1)               0\n23          54         (20, 1) (28, 1) (52, 1)               0\n24         110         (14, 1) (24, 1) (62, 1)               0\n25          59         (13, 1) (43, 1) (44, 1)               0",
      "text/html": "<div>\n<style scoped>\n    .dataframe tbody tr th:only-of-type {\n        vertical-align: middle;\n    }\n\n    .dataframe tbody tr th {\n        vertical-align: top;\n    }\n\n    .dataframe thead th {\n        text-align: right;\n    }\n</style>\n<table border=\"1\" class=\"dataframe\">\n  <thead>\n    <tr style=\"text-align: right;\">\n      <th></th>\n      <th># of rolls</th>\n      <th>Configuration</th>\n      <th>Waste per roll</th>\n    </tr>\n  </thead>\n  <tbody>\n    <tr>\n      <th>0</th>\n      <td>16</td>\n      <td>(20, 5)</td>\n      <td>0</td>\n    </tr>\n    <tr>\n      <th>1</th>\n      <td>211</td>\n      <td>(41, 1) (59, 1)</td>\n      <td>0</td>\n    </tr>\n    <tr>\n      <th>2</th>\n      <td>144</td>\n      <td>(6, 2) (26, 1) (62, 1)</td>\n      <td>0</td>\n    </tr>\n    <tr>\n      <th>3</th>\n      <td>48</td>\n      <td>(13, 1) (26, 1) (61, 1)</td>\n      <td>0</td>\n    </tr>\n    <tr>\n      <th>4</th>\n      <td>48</td>\n      <td>(12, 1) (13, 2) (62, 1)</td>\n      <td>0</td>\n    </tr>\n    <tr>\n      <th>5</th>\n      <td>183</td>\n      <td>(9, 1) (27, 1) (64, 1)</td>\n      <td>0</td>\n    </tr>\n    <tr>\n      <th>6</th>\n      <td>8</td>\n      <td>(9, 1) (12, 1) (15, 1) (64, 1)</td>\n      <td>0</td>\n    </tr>\n    <tr>\n      <th>7</th>\n      <td>72</td>\n      <td>(12, 1) (44, 2)</td>\n      <td>0</td>\n    </tr>\n    <tr>\n      <th>8</th>\n      <td>72</td>\n      <td>(12, 1) (26, 1) (62, 1)</td>\n      <td>0</td>\n    </tr>\n    <tr>\n      <th>9</th>\n      <td>137</td>\n      <td>(28, 2) (44, 1)</td>\n      <td>0</td>\n    </tr>\n    <tr>\n      <th>10</th>\n      <td>155</td>\n      <td>(14, 1) (43, 2)</td>\n      <td>0</td>\n    </tr>\n    <tr>\n      <th>11</th>\n      <td>194</td>\n      <td>(3, 1) (45, 1) (52, 1)</td>\n      <td>0</td>\n    </tr>\n    <tr>\n      <th>12</th>\n      <td>141</td>\n      <td>(46, 1) (54, 1)</td>\n      <td>0</td>\n    </tr>\n    <tr>\n      <th>13</th>\n      <td>77</td>\n      <td>(13, 1) (41, 1) (46, 1)</td>\n      <td>0</td>\n    </tr>\n    <tr>\n      <th>14</th>\n      <td>75</td>\n      <td>(24, 2) (52, 1)</td>\n      <td>0</td>\n    </tr>\n    <tr>\n      <th>15</th>\n      <td>54</td>\n      <td>(15, 1) (24, 1) (61, 1)</td>\n      <td>0</td>\n    </tr>\n    <tr>\n      <th>16</th>\n      <td>3</td>\n      <td>(2, 5) (15, 6)</td>\n      <td>0</td>\n    </tr>\n    <tr>\n      <th>17</th>\n      <td>1</td>\n      <td>(15, 4) (20, 2)</td>\n      <td>0</td>\n    </tr>\n    <tr>\n      <th>18</th>\n      <td>80</td>\n      <td>(6, 1) (15, 2) (64, 1)</td>\n      <td>0</td>\n    </tr>\n    <tr>\n      <th>19</th>\n      <td>18</td>\n      <td>(14, 1) (34, 1) (52, 1)</td>\n      <td>0</td>\n    </tr>\n    <tr>\n      <th>20</th>\n      <td>121</td>\n      <td>(2, 1) (34, 1) (64, 1)</td>\n      <td>0</td>\n    </tr>\n    <tr>\n      <th>21</th>\n      <td>81</td>\n      <td>(9, 1) (45, 1) (46, 1)</td>\n      <td>0</td>\n    </tr>\n    <tr>\n      <th>22</th>\n      <td>69</td>\n      <td>(14, 1) (41, 1) (45, 1)</td>\n      <td>0</td>\n    </tr>\n    <tr>\n      <th>23</th>\n      <td>54</td>\n      <td>(20, 1) (28, 1) (52, 1)</td>\n      <td>0</td>\n    </tr>\n    <tr>\n      <th>24</th>\n      <td>110</td>\n      <td>(14, 1) (24, 1) (62, 1)</td>\n      <td>0</td>\n    </tr>\n    <tr>\n      <th>25</th>\n      <td>59</td>\n      <td>(13, 1) (43, 1) (44, 1)</td>\n      <td>0</td>\n    </tr>\n  </tbody>\n</table>\n</div>"
     },
     "execution_count": 54,
     "metadata": {},
     "output_type": "execute_result"
    }
   ],
   "source": [
    "df_cutting_configuration"
   ],
   "metadata": {
    "collapsed": false,
    "ExecuteTime": {
     "end_time": "2024-03-03T04:12:11.744354800Z",
     "start_time": "2024-03-03T04:12:11.701569Z"
    }
   },
   "id": "3467d52d821a8f5d",
   "execution_count": 54
  },
  {
   "cell_type": "code",
   "outputs": [],
   "source": [
    "total_cuts_dict = {ol: 0 for ol in orders.keys()}\n",
    "for config, roll_count in solution:\n",
    "    for cut_length, cut_count in config.items():\n",
    "        total_cuts_dict[cut_length] = total_cuts_dict[cut_length]+ roll_count*cut_count\n",
    "surplus_list = []\n",
    "for cut_length, count in total_cuts_dict.items():\n",
    "    surplus_list.append({\n",
    "        \"Cut length\": cut_length,\n",
    "        \"Ordered\": orders[cut_length],\n",
    "        \"Produced\": count,\n",
    "        \"Surplus\": count-orders[cut_length]\n",
    "    })\n",
    "df_surplus = pd.DataFrame(surplus_list)"
   ],
   "metadata": {
    "collapsed": false,
    "ExecuteTime": {
     "end_time": "2024-03-03T04:12:13.511374400Z",
     "start_time": "2024-03-03T04:12:13.482668400Z"
    }
   },
   "id": "accba7ecd1ea73bf",
   "execution_count": 55
  },
  {
   "cell_type": "code",
   "outputs": [
    {
     "data": {
      "text/plain": "    Cut length  Ordered  Produced  Surplus\n0            2      133       136        3\n1            3      194       194        0\n2            6      367       368        1\n3            9      272       272        0\n4           12      200       200        0\n5           13      280       280        0\n6           14      352       352        0\n7           15      242       244        2\n8           20      136       136        0\n9           24      314       314        0\n10          26      264       264        0\n11          27      183       183        0\n12          28      328       328        0\n13          34      139       139        0\n14          41      357       357        0\n15          43      369       369        0\n16          44      339       340        1\n17          45      344       344        0\n18          46      299       299        0\n19          52      341       341        0\n20          54      141       141        0\n21          59      211       211        0\n22          61      102       102        0\n23          62      374       374        0\n24          64      392       392        0",
      "text/html": "<div>\n<style scoped>\n    .dataframe tbody tr th:only-of-type {\n        vertical-align: middle;\n    }\n\n    .dataframe tbody tr th {\n        vertical-align: top;\n    }\n\n    .dataframe thead th {\n        text-align: right;\n    }\n</style>\n<table border=\"1\" class=\"dataframe\">\n  <thead>\n    <tr style=\"text-align: right;\">\n      <th></th>\n      <th>Cut length</th>\n      <th>Ordered</th>\n      <th>Produced</th>\n      <th>Surplus</th>\n    </tr>\n  </thead>\n  <tbody>\n    <tr>\n      <th>0</th>\n      <td>2</td>\n      <td>133</td>\n      <td>136</td>\n      <td>3</td>\n    </tr>\n    <tr>\n      <th>1</th>\n      <td>3</td>\n      <td>194</td>\n      <td>194</td>\n      <td>0</td>\n    </tr>\n    <tr>\n      <th>2</th>\n      <td>6</td>\n      <td>367</td>\n      <td>368</td>\n      <td>1</td>\n    </tr>\n    <tr>\n      <th>3</th>\n      <td>9</td>\n      <td>272</td>\n      <td>272</td>\n      <td>0</td>\n    </tr>\n    <tr>\n      <th>4</th>\n      <td>12</td>\n      <td>200</td>\n      <td>200</td>\n      <td>0</td>\n    </tr>\n    <tr>\n      <th>5</th>\n      <td>13</td>\n      <td>280</td>\n      <td>280</td>\n      <td>0</td>\n    </tr>\n    <tr>\n      <th>6</th>\n      <td>14</td>\n      <td>352</td>\n      <td>352</td>\n      <td>0</td>\n    </tr>\n    <tr>\n      <th>7</th>\n      <td>15</td>\n      <td>242</td>\n      <td>244</td>\n      <td>2</td>\n    </tr>\n    <tr>\n      <th>8</th>\n      <td>20</td>\n      <td>136</td>\n      <td>136</td>\n      <td>0</td>\n    </tr>\n    <tr>\n      <th>9</th>\n      <td>24</td>\n      <td>314</td>\n      <td>314</td>\n      <td>0</td>\n    </tr>\n    <tr>\n      <th>10</th>\n      <td>26</td>\n      <td>264</td>\n      <td>264</td>\n      <td>0</td>\n    </tr>\n    <tr>\n      <th>11</th>\n      <td>27</td>\n      <td>183</td>\n      <td>183</td>\n      <td>0</td>\n    </tr>\n    <tr>\n      <th>12</th>\n      <td>28</td>\n      <td>328</td>\n      <td>328</td>\n      <td>0</td>\n    </tr>\n    <tr>\n      <th>13</th>\n      <td>34</td>\n      <td>139</td>\n      <td>139</td>\n      <td>0</td>\n    </tr>\n    <tr>\n      <th>14</th>\n      <td>41</td>\n      <td>357</td>\n      <td>357</td>\n      <td>0</td>\n    </tr>\n    <tr>\n      <th>15</th>\n      <td>43</td>\n      <td>369</td>\n      <td>369</td>\n      <td>0</td>\n    </tr>\n    <tr>\n      <th>16</th>\n      <td>44</td>\n      <td>339</td>\n      <td>340</td>\n      <td>1</td>\n    </tr>\n    <tr>\n      <th>17</th>\n      <td>45</td>\n      <td>344</td>\n      <td>344</td>\n      <td>0</td>\n    </tr>\n    <tr>\n      <th>18</th>\n      <td>46</td>\n      <td>299</td>\n      <td>299</td>\n      <td>0</td>\n    </tr>\n    <tr>\n      <th>19</th>\n      <td>52</td>\n      <td>341</td>\n      <td>341</td>\n      <td>0</td>\n    </tr>\n    <tr>\n      <th>20</th>\n      <td>54</td>\n      <td>141</td>\n      <td>141</td>\n      <td>0</td>\n    </tr>\n    <tr>\n      <th>21</th>\n      <td>59</td>\n      <td>211</td>\n      <td>211</td>\n      <td>0</td>\n    </tr>\n    <tr>\n      <th>22</th>\n      <td>61</td>\n      <td>102</td>\n      <td>102</td>\n      <td>0</td>\n    </tr>\n    <tr>\n      <th>23</th>\n      <td>62</td>\n      <td>374</td>\n      <td>374</td>\n      <td>0</td>\n    </tr>\n    <tr>\n      <th>24</th>\n      <td>64</td>\n      <td>392</td>\n      <td>392</td>\n      <td>0</td>\n    </tr>\n  </tbody>\n</table>\n</div>"
     },
     "execution_count": 56,
     "metadata": {},
     "output_type": "execute_result"
    }
   ],
   "source": [
    "df_surplus"
   ],
   "metadata": {
    "collapsed": false,
    "ExecuteTime": {
     "end_time": "2024-03-03T04:12:14.377684900Z",
     "start_time": "2024-03-03T04:12:14.337065Z"
    }
   },
   "id": "e938cfb988883b41",
   "execution_count": 56
  },
  {
   "cell_type": "code",
   "outputs": [],
   "source": [
    "df_cutting_configuration.to_csv(f\"solution/{file_name}_cutting_plan.csv\", index=False)\n",
    "df_surplus.to_csv(f\"solution/{file_name}_surplus.csv\", index=False)"
   ],
   "metadata": {
    "collapsed": false,
    "ExecuteTime": {
     "end_time": "2024-03-03T04:12:16.731367400Z",
     "start_time": "2024-03-03T04:12:16.696717400Z"
    }
   },
   "id": "1fb42a62bcfa206e",
   "execution_count": 57
  },
  {
   "cell_type": "code",
   "outputs": [],
   "source": [],
   "metadata": {
    "collapsed": false
   },
   "id": "2c6171b173f1f818"
  }
 ],
 "metadata": {
  "kernelspec": {
   "display_name": "Python 3",
   "language": "python",
   "name": "python3"
  },
  "language_info": {
   "codemirror_mode": {
    "name": "ipython",
    "version": 2
   },
   "file_extension": ".py",
   "mimetype": "text/x-python",
   "name": "python",
   "nbconvert_exporter": "python",
   "pygments_lexer": "ipython2",
   "version": "2.7.6"
  }
 },
 "nbformat": 4,
 "nbformat_minor": 5
}
